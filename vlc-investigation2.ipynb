{
 "cells": [
  {
   "cell_type": "code",
   "execution_count": 1,
   "metadata": {},
   "outputs": [],
   "source": [
    "# Import relevant libraries\n",
    "import vlc\n",
    "from pathlib import Path, WindowsPath\n",
    "import pandas as pd\n",
    "import random\n",
    "from collections import deque\n",
    "from tinytag import TinyTag"
   ]
  },
  {
   "cell_type": "markdown",
   "metadata": {},
   "source": [
    "### Test playing a video"
   ]
  },
  {
   "cell_type": "code",
   "execution_count": 2,
   "metadata": {},
   "outputs": [],
   "source": [
    "# Define parent directory for shows\n",
    "TV_PATH = Path(\"./data/TV Shows/\")"
   ]
  },
  {
   "cell_type": "code",
   "execution_count": 3,
   "metadata": {},
   "outputs": [
    {
     "ename": "StopIteration",
     "evalue": "",
     "output_type": "error",
     "traceback": [
      "\u001b[1;31m---------------------------------------------------------------------------\u001b[0m",
      "\u001b[1;31mStopIteration\u001b[0m                             Traceback (most recent call last)",
      "\u001b[1;32m~\\AppData\\Local\\Temp\\ipykernel_34812\\2090545919.py\u001b[0m in \u001b[0;36m<module>\u001b[1;34m\u001b[0m\n\u001b[0;32m      1\u001b[0m \u001b[1;31m# Get episode 1 of show\u001b[0m\u001b[1;33m\u001b[0m\u001b[1;33m\u001b[0m\u001b[0m\n\u001b[1;32m----> 2\u001b[1;33m \u001b[0mtest_vid\u001b[0m \u001b[1;33m=\u001b[0m \u001b[0mnext\u001b[0m\u001b[1;33m(\u001b[0m\u001b[0mnext\u001b[0m\u001b[1;33m(\u001b[0m\u001b[0mTV_PATH\u001b[0m\u001b[1;33m.\u001b[0m\u001b[0mglob\u001b[0m\u001b[1;33m(\u001b[0m\u001b[1;34m\"*\"\u001b[0m\u001b[1;33m)\u001b[0m\u001b[1;33m)\u001b[0m\u001b[1;33m.\u001b[0m\u001b[0mglob\u001b[0m\u001b[1;33m(\u001b[0m\u001b[1;34m\"*\"\u001b[0m\u001b[1;33m)\u001b[0m\u001b[1;33m)\u001b[0m\u001b[1;33m\u001b[0m\u001b[0m\n\u001b[0m",
      "\u001b[1;31mStopIteration\u001b[0m: "
     ]
    }
   ],
   "source": [
    "# Get episode 1 of show\n",
    "test_vid = next(next(TV_PATH.glob(\"*\")).glob(\"*\"))\n"
   ]
  },
  {
   "cell_type": "code",
   "execution_count": null,
   "metadata": {},
   "outputs": [
    {
     "data": {
      "text/plain": [
       "0"
      ]
     },
     "execution_count": 4,
     "metadata": {},
     "output_type": "execute_result"
    }
   ],
   "source": [
    "# Test playing program with VLC\n",
    "media = vlc.MediaPlayer(test_vid)\n",
    "media.play()"
   ]
  },
  {
   "cell_type": "code",
   "execution_count": null,
   "metadata": {},
   "outputs": [],
   "source": [
    "# Stop when cell is run\n",
    "media.stop()"
   ]
  },
  {
   "cell_type": "markdown",
   "metadata": {},
   "source": [
    "### Generate Playlist File"
   ]
  },
  {
   "cell_type": "code",
   "execution_count": null,
   "metadata": {},
   "outputs": [],
   "source": [
    "def new_playlist_scheme(file_name : str):\n",
    "    # Grab folder name for each video\n",
    "    show_folders = [folder for folder in TV_PATH.iterdir()]\n",
    "\n",
    "    # Create and populate dataframe\n",
    "    show_folder_df = pd.DataFrame(columns=[\"show_path\", \"frequency\"])\n",
    "    show_folder_df[\"show_path\"] = show_folders\n",
    "    show_folder_df[\"frequency\"] = show_folder_df[\"frequency\"].fillna(1)\n",
    "\n",
    "    # Make relative to TV_PATH and remove playlist row\n",
    "    show_folder_df[\"show_path\"] = show_folder_df[\"show_path\"].apply(lambda x: x.relative_to(TV_PATH))\n",
    "    show_folder_df = show_folder_df[show_folder_df[\"show_path\"] != WindowsPath('.scheme')]\n",
    "\n",
    "    # Create playlist file\n",
    "    show_folder_df.to_csv(TV_PATH.as_posix() + \"/.scheme/\" + file_name + \".csv\")"
   ]
  },
  {
   "cell_type": "code",
   "execution_count": null,
   "metadata": {},
   "outputs": [],
   "source": [
    "new_playlist_scheme(\"test\")"
   ]
  },
  {
   "cell_type": "markdown",
   "metadata": {},
   "source": [
    "### Test Reading Playlist File and Creating Random Subset"
   ]
  },
  {
   "cell_type": "code",
   "execution_count": 4,
   "metadata": {},
   "outputs": [],
   "source": [
    "def load_playlist_scheme(file_name : str) -> pd.DataFrame:\n",
    "    \"\"\"\n",
    "    Loads a playlist scheme from file. If none found, generates a new one\n",
    "    \"\"\"\n",
    "    try:\n",
    "        scheme = pd.read_csv(TV_PATH.as_posix() + \"/.scheme/\" + file_name + \".csv\", index_col=0)\n",
    "    except FileNotFoundError:\n",
    "        scheme = new_playlist_scheme(file_name)\n",
    "\n",
    "    return scheme"
   ]
  },
  {
   "cell_type": "code",
   "execution_count": 5,
   "metadata": {},
   "outputs": [
    {
     "data": {
      "text/html": [
       "<div>\n",
       "<style scoped>\n",
       "    .dataframe tbody tr th:only-of-type {\n",
       "        vertical-align: middle;\n",
       "    }\n",
       "\n",
       "    .dataframe tbody tr th {\n",
       "        vertical-align: top;\n",
       "    }\n",
       "\n",
       "    .dataframe thead th {\n",
       "        text-align: right;\n",
       "    }\n",
       "</style>\n",
       "<table border=\"1\" class=\"dataframe\">\n",
       "  <thead>\n",
       "    <tr style=\"text-align: right;\">\n",
       "      <th></th>\n",
       "      <th>show_path</th>\n",
       "      <th>frequency</th>\n",
       "    </tr>\n",
       "  </thead>\n",
       "  <tbody>\n",
       "    <tr>\n",
       "      <th>2</th>\n",
       "      <td>4543</td>\n",
       "      <td>0</td>\n",
       "    </tr>\n",
       "    <tr>\n",
       "      <th>3</th>\n",
       "      <td>Adventure Time (2010) Season 1-10 S01-S10 + Ex...</td>\n",
       "      <td>1</td>\n",
       "    </tr>\n",
       "    <tr>\n",
       "      <th>4</th>\n",
       "      <td>Hercules - The Legendary Journeys (1994)(tvdb-72)</td>\n",
       "      <td>0</td>\n",
       "    </tr>\n",
       "    <tr>\n",
       "      <th>5</th>\n",
       "      <td>Star Wards - The Clone Wars (2008)</td>\n",
       "      <td>0</td>\n",
       "    </tr>\n",
       "  </tbody>\n",
       "</table>\n",
       "</div>"
      ],
      "text/plain": [
       "                                           show_path  frequency\n",
       "2                                               4543          0\n",
       "3  Adventure Time (2010) Season 1-10 S01-S10 + Ex...          1\n",
       "4  Hercules - The Legendary Journeys (1994)(tvdb-72)          0\n",
       "5                 Star Wards - The Clone Wars (2008)          0"
      ]
     },
     "execution_count": 5,
     "metadata": {},
     "output_type": "execute_result"
    }
   ],
   "source": [
    "playlist_scheme = load_playlist_scheme(\"scheme\")\n",
    "playlist_scheme"
   ]
  },
  {
   "cell_type": "code",
   "execution_count": 6,
   "metadata": {},
   "outputs": [],
   "source": [
    "# For details on sorting algorithm, see: https://nedbatchelder.com/blog/200712/human_sorting.html\n",
    "\n",
    "import re\n",
    "\n",
    "def tryint(string : str) -> str:\n",
    "    \"\"\"\n",
    "    Return an int if possible, or `s` unchanged.\n",
    "    \"\"\"\n",
    "    try:\n",
    "        return int(string)\n",
    "    except ValueError:\n",
    "        return string\n",
    "\n",
    "def alphanum_key(string : str) -> list:\n",
    "    \"\"\"\n",
    "    Turn a string into a list of string and number chunks.\n",
    "\n",
    "    >>> alphanum_key(\"z23a\")\n",
    "    [\"z\", 23, \"a\"]\n",
    "\n",
    "    \"\"\"\n",
    "    string = string.as_posix()\n",
    "    return [ tryint(c) for c in re.split('([0-9]+)', string) ]\n",
    "\n",
    "def human_sort(path_list : list) -> None:\n",
    "    \"\"\"\n",
    "    Sort a list in the way that humans expect.\n",
    "    \"\"\"\n",
    "    path_list.sort(key=alphanum_key)"
   ]
  },
  {
   "cell_type": "code",
   "execution_count": 514,
   "metadata": {},
   "outputs": [],
   "source": [
    "def get_first_episode(search_path : Path) -> Path:\n",
    "    \"\"\"\n",
    "    Returns the first episode of a show. If show is arranged into seasons, searches recursively.\n",
    "    :param search_path: Path to initiate search for episode\n",
    "    \"\"\"\n",
    "    \n",
    "    sorted_contents: list = [path for path in search_path.glob(\"*[!.txt]\")]\n",
    "    human_sort(sorted_contents)\n",
    "    first_episode: Path = sorted_contents[0]\n",
    "\n",
    "    # If the first value of the returned content is a directory, search in that directory\n",
    "    if first_episode.is_dir():\n",
    "        first_episode = get_first_episode(first_episode)\n",
    "\n",
    "    return first_episode\n",
    "        "
   ]
  },
  {
   "cell_type": "code",
   "execution_count": 515,
   "metadata": {},
   "outputs": [],
   "source": [
    "def get_current_episode(show_path : Path) -> Path:\n",
    "    \"\"\"\n",
    "    Uses the .eps file to search and return the first episode. If .eps file does not exist, find the first episode\n",
    "    \"\"\"\n",
    "    eps_file_path : Path = show_path.joinpath(\".eps.txt\")\n",
    "\n",
    "    # If .eps file does not exist, populate with first episode of show and return first episode\n",
    "    if not eps_file_path.exists() or not eps_file_path.stat().st_size:\n",
    "        first_episode : Path = get_first_episode(show_path)\n",
    "        with open(eps_file_path, \"w\") as file:\n",
    "            file.write(first_episode.as_posix())\n",
    "        return first_episode\n",
    "\n",
    "    # Otherwise, get current episode from .eps file\n",
    "    current_episode: Path = show_path.joinpath(show_path.joinpath(\".eps.txt\").read_text())\n",
    "\n",
    "    return current_episode"
   ]
  },
  {
   "cell_type": "code",
   "execution_count": 516,
   "metadata": {},
   "outputs": [],
   "source": [
    "def find_next_path(search_item: Path, search_path: Path) -> Path:\n",
    "    '''\n",
    "    Searches for the next episode or season. If the final episode or season, returns the first one\n",
    "    '''\n",
    "    # Search for next episode of show in folder\n",
    "    sorted_paths : list[Path] = [path for path in search_path.glob(\"*[!.txt]\")]\n",
    "    human_sort(sorted_paths)\n",
    "    \n",
    "    try:\n",
    "        path_number : int = sorted_paths.index(search_item)\n",
    "    except ValueError:\n",
    "        return None\n",
    "    \n",
    "    # Grab the next episode if it is not the last episode\n",
    "    try:\n",
    "        next_path: Path = sorted_paths[path_number + 1]\n",
    "\n",
    "    except IndexError:\n",
    "        next_path : Path = sorted_paths[0]\n",
    "    \n",
    "    return next_path"
   ]
  },
  {
   "cell_type": "code",
   "execution_count": 517,
   "metadata": {},
   "outputs": [],
   "source": [
    "def update_next_episode(show_path: Path) -> Path:\n",
    "    '''\n",
    "    Returns the current episode for the show. Additionally, updates the .eps file marker for the next episode. \n",
    "    If it has reached the final episode, resets to previous episode\n",
    "    '''\n",
    "    import os\n",
    "\n",
    "    current_episode : Path = get_current_episode(show_path)\n",
    "    next_episode : Path\n",
    "    next_season : Path\n",
    "    \n",
    "    # If last episode and folder above is the TV_PATH, return to start of series\n",
    "    next_episode = find_next_path(current_episode, current_episode.parent)\n",
    "    \n",
    "    # If no next episode was found, return the current episode\n",
    "    if not next_episode:\n",
    "        return current_episode\n",
    "    \n",
    "    write_string = next_episode.stem + next_episode.suffix\n",
    "    \n",
    "    # If folder above directory is not TV_PATH, we assume this directory structure is organized into series\n",
    "    # Repeat search in next season\n",
    "    if current_episode.parent.parent != TV_PATH:\n",
    "        if next_episode == get_first_episode(current_episode.parent):\n",
    "            next_season = find_next_path(current_episode.parent, show_path)\n",
    "\n",
    "            # If no next seaon was found, return the current episode\n",
    "            if not next_season:\n",
    "                return current_episode\n",
    "            \n",
    "            # If we cannot find the next epsiode in the subsequent season folder, do not change .eps\n",
    "            if os.listdir(next_season):\n",
    "                next_episode = get_first_episode(next_season)\n",
    "\n",
    "            else:\n",
    "                return current_episode\n",
    "        \n",
    "        write_string = next_episode.parts[-2] + '/' + next_episode.parts[-1]\n",
    "        \n",
    "    # Overwrite .eps file with next episode\n",
    "    with open(show_path.joinpath(\".eps.txt\"), \"w\") as file:\n",
    "        file.write(write_string)\n",
    "\n",
    "    return next_episode"
   ]
  },
  {
   "attachments": {},
   "cell_type": "markdown",
   "metadata": {},
   "source": [
    "### Add to, dequeue, and load previous playlist"
   ]
  },
  {
   "cell_type": "code",
   "execution_count": 518,
   "metadata": {},
   "outputs": [],
   "source": [
    "def add_to_playlist(video_queue : deque, video : Path, duration : int) -> None:\n",
    "    '''\n",
    "    Manages to simultaneous updates of video_queues and playlist backlog file. Adds one video to the queue.\n",
    "    :param video_queue: Current playlist queue \n",
    "    :param video: Video to add\n",
    "    :param duration: Duration of video\n",
    "    '''\n",
    "    # Add to video queue\n",
    "    video_queue.append(video)\n",
    "\n",
    "    # Add to playlist backlog file\n",
    "    with open(TV_PATH.joinpath(\".playlist.csv\"), \"a\") as file:\n",
    "        file.write(str(len(video_queue)) + \",\" + video.as_posix() + \",\" + str(duration) + \"\\n\")"
   ]
  },
  {
   "cell_type": "code",
   "execution_count": 519,
   "metadata": {},
   "outputs": [],
   "source": [
    "def dequeue_playlist(video_queue : deque) -> Path:\n",
    "    '''\n",
    "    Manages simultaneous updates of video_queues and playlist backlog file. Removes one video from the queue.\n",
    "    :param video_queue: Current playlist queue \n",
    "    '''\n",
    "    # Remove from playlist text file, preserving all rows after\n",
    "    try:\n",
    "        with open(TV_PATH.joinpath(\".playlist.csv\"), \"r\") as file:\n",
    "            data = file.readlines()\n",
    "        with open(TV_PATH.joinpath(\".playlist.csv\"), \"w\") as file:\n",
    "            file.write(\",video,duration\\n\" + \"\".join(data[2:]))\n",
    "    except (FileNotFoundError):\n",
    "        print(\"Playlist does not exist\")\n",
    "\n",
    "    # Pop and return front of queue. If queue is empty, return None\n",
    "    try:\n",
    "        video = video_queue.popleft()\n",
    "    except IndexError:\n",
    "        video = None\n",
    "\n",
    "    return video"
   ]
  },
  {
   "cell_type": "code",
   "execution_count": 520,
   "metadata": {},
   "outputs": [],
   "source": [
    "def load_playlist() -> pd.DataFrame:\n",
    "    \"\"\"\n",
    "    Load previous playlist from file and load into dataframe. This will load from TV_PATH/.playlist.csv.\n",
    "    \"\"\" \n",
    "    # Try to load the playlist from file if it exists and is not empty. Otherwise, return the empty playlist and save a blank csv with headers\n",
    "    try:\n",
    "        playlist = pd.read_csv(TV_PATH.joinpath(\".playlist.csv\").as_posix(), index_col=0).reset_index(drop=True)\n",
    "    except (pd.errors.EmptyDataError, FileNotFoundError):\n",
    "        playlist = pd.DataFrame(columns=[\"video\", \"duration\"])\n",
    "        playlist.to_csv(TV_PATH.joinpath(\".playlist.csv\").as_posix())\n",
    "        return playlist\n",
    "\n",
    "    # Convert videos to path\n",
    "    playlist[\"video\"] = playlist[\"video\"].apply(lambda x: WindowsPath(x))\n",
    "\n",
    "    return playlist"
   ]
  },
  {
   "cell_type": "code",
   "execution_count": 521,
   "metadata": {},
   "outputs": [],
   "source": [
    "def generate_playlist(scheme_name: str, max_length: int) -> deque:\n",
    "    \"\"\"\n",
    "    Generates a playlist, adding  up to a maximum number of minutes\n",
    "    \"\"\"\n",
    "    \n",
    "    # Define variables\n",
    "    queue_length_mins: int = 0\n",
    "    video_queue: deque = deque()\n",
    "    selected_show: WindowsPath\n",
    "    next_episode: WindowsPath\n",
    "    \n",
    "    # If a playlist already exists from a previous session, load that from file. Otherwise, create a blank version\n",
    "    playlist : pd.DataFrame = load_playlist()\n",
    "\n",
    "    # Populate playlist object with videos and set starting queue time\n",
    "    video_queue = deque(playlist[\"video\"].to_list())\n",
    "    queue_length_mins += playlist[\"duration\"].sum()\n",
    "\n",
    "    # Get requested playlist scheme \n",
    "    playlist_scheme = load_playlist_scheme(scheme_name)\n",
    "\n",
    "    # Generate random list of videos\n",
    "    while queue_length_mins < max_length:\n",
    "        # Select show from list of shows and user generated frequencies\n",
    "        selected_show = random.choices(playlist_scheme[\"show_path\"].to_list(), weights=playlist_scheme[\"frequency\"].to_list())\n",
    "\n",
    "        # Use .eps text file to determine next episode to play\n",
    "        show_path = TV_PATH.joinpath(selected_show[0])\n",
    "        next_episode = update_next_episode(show_path)\n",
    "        \n",
    "        # Get duration of video and append to total duration\n",
    "        try:\n",
    "            tag = TinyTag.get(next_episode.as_posix())\n",
    "            queue_length_mins += tag.duration\n",
    "\n",
    "            # If data not available on video length, add 10 mins to ensure we do not infinite loop\n",
    "            if not tag.duration:\n",
    "                queue_length_mins += 10\n",
    "\n",
    "        except FileNotFoundError:\n",
    "            continue\n",
    "        \n",
    "        # Add path to video queue\n",
    "        add_to_playlist(video_queue, video=next_episode, duration=tag.duration)\n",
    "\n",
    "    return video_queue"
   ]
  },
  {
   "cell_type": "code",
   "execution_count": 549,
   "metadata": {},
   "outputs": [
    {
     "data": {
      "text/plain": [
       "deque([WindowsPath('data/TV Shows/Hercules - The Legendary Journeys (1994)(tvdb-72)/Hercules 2.mp4'),\n",
       "       WindowsPath('data/TV Shows/4543/file_example_MP4_480_1_5MG.mp4'),\n",
       "       WindowsPath('data/TV Shows/Hercules - The Legendary Journeys (1994)(tvdb-72)/Hercules 4.mp4'),\n",
       "       WindowsPath('data/TV Shows/Adventure Time (2010) Season 1-10 S01-S10 + Extras/Season 1/Adventure Time Episode 2.mp4'),\n",
       "       WindowsPath('data/TV Shows/Star Wards - The Clone Wars (2008)/Star wars 2.mp4'),\n",
       "       WindowsPath('data/TV Shows/Adventure Time (2010) Season 1-10 S01-S10 + Extras/Season 2/Adventure time 2x1.mp4'),\n",
       "       WindowsPath('data/TV Shows/Adventure Time (2010) Season 1-10 S01-S10 + Extras/Season 2/Adventure time 2x1.mp4')])"
      ]
     },
     "execution_count": 549,
     "metadata": {},
     "output_type": "execute_result"
    }
   ],
   "source": [
    "# Set constraints\n",
    "MAX_LENGTH_MINS: int = 200\n",
    "\n",
    "# Gemerate playlist\n",
    "queue = generate_playlist(\"scheme\", MAX_LENGTH_MINS)\n",
    "queue"
   ]
  },
  {
   "cell_type": "code",
   "execution_count": 550,
   "metadata": {},
   "outputs": [
    {
     "data": {
      "text/plain": [
       "WindowsPath('data/TV Shows/Hercules - The Legendary Journeys (1994)(tvdb-72)/Hercules 1.mp4')"
      ]
     },
     "execution_count": 550,
     "metadata": {},
     "output_type": "execute_result"
    }
   ],
   "source": [
    "# Dequeue and find first episode\n",
    "get_first_episode(dequeue_playlist(queue).parent)"
   ]
  },
  {
   "attachments": {},
   "cell_type": "markdown",
   "metadata": {},
   "source": [
    "### Putting it together"
   ]
  },
  {
   "cell_type": "code",
   "execution_count": null,
   "metadata": {},
   "outputs": [],
   "source": []
  }
 ],
 "metadata": {
  "kernelspec": {
   "display_name": "Python 3.7.0 ('venv': venv)",
   "language": "python",
   "name": "python3"
  },
  "language_info": {
   "codemirror_mode": {
    "name": "ipython",
    "version": 3
   },
   "file_extension": ".py",
   "mimetype": "text/x-python",
   "name": "python",
   "nbconvert_exporter": "python",
   "pygments_lexer": "ipython3",
   "version": "3.7.0"
  },
  "vscode": {
   "interpreter": {
    "hash": "c54560fae665db78ea27c062c651ad58b0b09e12b426692f2e38e1eac4d1ee5d"
   }
  }
 },
 "nbformat": 4,
 "nbformat_minor": 2
}
