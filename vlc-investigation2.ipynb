{
 "cells": [
  {
   "cell_type": "code",
   "execution_count": 1,
   "metadata": {},
   "outputs": [],
   "source": [
    "# Import relevant libraries\n",
    "import vlc\n",
    "from pathlib import Path, WindowsPath\n",
    "import pandas as pd\n",
    "import random\n",
    "from collections import deque\n",
    "from tinytag import TinyTag"
   ]
  },
  {
   "cell_type": "markdown",
   "metadata": {},
   "source": [
    "### Test playing a video"
   ]
  },
  {
   "cell_type": "code",
   "execution_count": 2,
   "metadata": {},
   "outputs": [],
   "source": [
    "# Define parent directory for shows\n",
    "TV_PATH = Path(\"./data/TV Shows/\")"
   ]
  },
  {
   "cell_type": "code",
   "execution_count": 3,
   "metadata": {},
   "outputs": [],
   "source": [
    "# Get episode 1 of show\n",
    "test_vid = next(next(TV_PATH.glob(\"*\")).glob(\"*\"))\n"
   ]
  },
  {
   "cell_type": "code",
   "execution_count": 4,
   "metadata": {},
   "outputs": [
    {
     "data": {
      "text/plain": [
       "0"
      ]
     },
     "execution_count": 4,
     "metadata": {},
     "output_type": "execute_result"
    }
   ],
   "source": [
    "# Test playing program with VLC\n",
    "media = vlc.MediaPlayer(test_vid)\n",
    "media.play()"
   ]
  },
  {
   "cell_type": "code",
   "execution_count": 5,
   "metadata": {},
   "outputs": [],
   "source": [
    "# Stop when cell is run\n",
    "media.stop()"
   ]
  },
  {
   "cell_type": "markdown",
   "metadata": {},
   "source": [
    "### Generate Playlist File"
   ]
  },
  {
   "cell_type": "code",
   "execution_count": null,
   "metadata": {},
   "outputs": [],
   "source": [
    "def new_playlist_scheme(file_name : str):\n",
    "    # Grab folder name for each video\n",
    "    show_folders = [folder for folder in TV_PATH.iterdir()]\n",
    "\n",
    "    # Create and populate dataframe\n",
    "    show_folder_df = pd.DataFrame(columns=[\"show_path\", \"frequency\"])\n",
    "    show_folder_df[\"show_path\"] = show_folders\n",
    "\n",
    "    # Make relative to TV_PATH and remove playlist row\n",
    "    show_folder_df[\"show_path\"] = show_folder_df[\"show_path\"].apply(lambda x: x.relative_to(TV_PATH))\n",
    "    show_folder_df = show_folder_df[show_folder_df[\"show_path\"] != WindowsPath('.playlists')]\n",
    "\n",
    "    # Create playlist file\n",
    "    show_folder_df.to_csv(TV_PATH.as_posix() + \"/.playlists/\" + file_name + \".csv\")"
   ]
  },
  {
   "cell_type": "code",
   "execution_count": null,
   "metadata": {},
   "outputs": [],
   "source": [
    "new_playlist_scheme(\"playlist\")"
   ]
  },
  {
   "cell_type": "markdown",
   "metadata": {},
   "source": [
    "### Test Reading Playlist File and Creating Random Subset"
   ]
  },
  {
   "cell_type": "code",
   "execution_count": 6,
   "metadata": {},
   "outputs": [],
   "source": [
    "def load_playlist_scheme(file_name : str) -> pd.DataFrame:\n",
    "    # Grab playlist scheme from file\n",
    "    playlist = pd.read_csv(TV_PATH.as_posix() + \"/.playlists/\" + file_name + \".csv\", index_col=0)\n",
    "    return playlist"
   ]
  },
  {
   "cell_type": "code",
   "execution_count": 245,
   "metadata": {},
   "outputs": [
    {
     "data": {
      "text/html": [
       "<div>\n",
       "<style scoped>\n",
       "    .dataframe tbody tr th:only-of-type {\n",
       "        vertical-align: middle;\n",
       "    }\n",
       "\n",
       "    .dataframe tbody tr th {\n",
       "        vertical-align: top;\n",
       "    }\n",
       "\n",
       "    .dataframe thead th {\n",
       "        text-align: right;\n",
       "    }\n",
       "</style>\n",
       "<table border=\"1\" class=\"dataframe\">\n",
       "  <thead>\n",
       "    <tr style=\"text-align: right;\">\n",
       "      <th></th>\n",
       "      <th>show_path</th>\n",
       "      <th>frequency</th>\n",
       "    </tr>\n",
       "  </thead>\n",
       "  <tbody>\n",
       "    <tr>\n",
       "      <th>1</th>\n",
       "      <td>4543</td>\n",
       "      <td>10</td>\n",
       "    </tr>\n",
       "    <tr>\n",
       "      <th>2</th>\n",
       "      <td>Adventure Time (2010) Season 1-10 S01-S10 + Ex...</td>\n",
       "      <td>5</td>\n",
       "    </tr>\n",
       "    <tr>\n",
       "      <th>3</th>\n",
       "      <td>Hercules - The Legendary Journeys (1994)(tvdb-72)</td>\n",
       "      <td>1</td>\n",
       "    </tr>\n",
       "    <tr>\n",
       "      <th>4</th>\n",
       "      <td>Star Wards - The Clone Wars (2008)</td>\n",
       "      <td>20</td>\n",
       "    </tr>\n",
       "  </tbody>\n",
       "</table>\n",
       "</div>"
      ],
      "text/plain": [
       "                                           show_path  frequency\n",
       "1                                               4543         10\n",
       "2  Adventure Time (2010) Season 1-10 S01-S10 + Ex...          5\n",
       "3  Hercules - The Legendary Journeys (1994)(tvdb-72)          1\n",
       "4                 Star Wards - The Clone Wars (2008)         20"
      ]
     },
     "execution_count": 245,
     "metadata": {},
     "output_type": "execute_result"
    }
   ],
   "source": [
    "playlist_scheme = load_playlist_scheme(\"playlist\")\n",
    "playlist_scheme"
   ]
  },
  {
   "cell_type": "code",
   "execution_count": 184,
   "metadata": {},
   "outputs": [],
   "source": [
    "def get_current_episode(show_path: Path) -> Path:\n",
    "    # TODO: If .eps file does not exist, populate with first episode of show\n",
    "    eps_file_path = show_path.joinpath(\".eps.txt\")\n",
    "    if not eps_file_path.exists():\n",
    "        pass\n",
    "    \n",
    "    # Get current episode from .eps file\n",
    "    current_episode: Path = show_path.joinpath(show_path.joinpath(\".eps.txt\").read_text())\n",
    "\n",
    "    return current_episode"
   ]
  },
  {
   "cell_type": "code",
   "execution_count": 93,
   "metadata": {},
   "outputs": [],
   "source": [
    "def find_next_path(search_item: Path, search_path: Path) -> Path:\n",
    "    '''\n",
    "    Searches for the next episode or season. If the final episode or season, returns the first one\n",
    "    '''\n",
    "    # Search for next episode of show in folder\n",
    "    sorted_paths : list[Path] = [path for path in sorted(search_path.glob(\"*[!.txt]\"))]\n",
    "    try:\n",
    "        path_number : int = sorted_paths.index(search_item)\n",
    "    except ValueError:\n",
    "        return None\n",
    "    \n",
    "    # Grab the next episode if it is not the last episode\n",
    "    try:\n",
    "        next_path: Path = sorted_paths[path_number + 1]\n",
    "\n",
    "    except IndexError:\n",
    "        next_path : Path = sorted_paths[0]\n",
    "    \n",
    "    return next_path"
   ]
  },
  {
   "cell_type": "code",
   "execution_count": 739,
   "metadata": {},
   "outputs": [],
   "source": [
    "def update_next_episode(show_path: Path) -> Path:\n",
    "    '''\n",
    "    Returns the current episode for the show. Additionally, updates the .eps file marker for the next episode. \n",
    "    If it has reached the final episode, resets to previous episode\n",
    "    '''\n",
    "    import os\n",
    "\n",
    "    current_episode : Path = get_current_episode(show_path)\n",
    "    next_episode : Path\n",
    "    next_season : Path\n",
    "    \n",
    "    # If last episode and folder above is the TV_PATH, return to start of series\n",
    "    if current_episode.parent.parent == TV_PATH:\n",
    "        next_episode = find_next_path(current_episode, show_path)\n",
    "        \n",
    "        # If no next episode was found, return the current episode\n",
    "        if not next_episode:\n",
    "            return current_episode\n",
    "        \n",
    "        write_string = next_episode.as_posix().split('/')[-2:]\n",
    "        write_string = write_string[0] + '/' + write_string[1]\n",
    "    \n",
    "    # If folder above directory is not TV_PATH, we assume this directory structure is organized into series\n",
    "    # Repeat search in next season\n",
    "    else:\n",
    "        next_season = find_next_path(current_episode.parent, show_path)\n",
    "\n",
    "        # If no next episode was found, return the current episode\n",
    "        if not next_season:\n",
    "            return current_episode\n",
    "        \n",
    "        # If we cannot find the next epsiode in the subsequent season folder, do not change .eps\n",
    "        if os.listdir(next_season):\n",
    "            return current_episode\n",
    "        \n",
    "        next_episode = sorted(next_season.iterdir())[0]\n",
    "        write_string = next_episode.parts[-2] + '/' + next_episode.parts[-1] + next_episode.suffix\n",
    "    \n",
    "    # Overwrite .eps file with next episode\n",
    "    with open(show_path.joinpath(\".eps.txt\"), \"w\") as file:\n",
    "        file.write(next_episode.stem + next_episode.suffix)\n",
    "\n",
    "    return next_episode"
   ]
  },
  {
   "cell_type": "code",
   "execution_count": 740,
   "metadata": {},
   "outputs": [],
   "source": [
    "# Set constraints\n",
    "MAX_LENGTH_MINS: int = 200\n",
    "\n",
    "def generate_playlist(max_length: int) -> deque:\n",
    "    # Define variables\n",
    "    queue_length_mins: int = 0\n",
    "    video_queue: deque = deque()\n",
    "    selected_show: WindowsPath\n",
    "    next_episode: WindowsPath\n",
    "\n",
    "    # Generate random list of videos\n",
    "    while queue_length_mins < max_length:\n",
    "        # Select show from list of shows and user generated frequencies\n",
    "        selected_show = random.choices(playlist_scheme[\"show_path\"].to_list(), weights=playlist_scheme[\"frequency\"].to_list())\n",
    "\n",
    "        # Use .eps text file to determine next episode to play\n",
    "        show_path = TV_PATH.joinpath(selected_show[0])\n",
    "        next_episode = update_next_episode(show_path)\n",
    "        \n",
    "        # Get duration of video and append to total duration\n",
    "        try:\n",
    "            tag = TinyTag.get(next_episode.as_posix())\n",
    "            queue_length_mins += tag.duration\n",
    "        except FileNotFoundError:\n",
    "            continue\n",
    "        \n",
    "        # Add path to video queue\n",
    "        video_queue.append(next_episode)\n",
    "\n",
    "    return video_queue\n"
   ]
  },
  {
   "cell_type": "code",
   "execution_count": 744,
   "metadata": {},
   "outputs": [
    {
     "data": {
      "text/plain": [
       "deque([WindowsPath('data/TV Shows/Star Wards - The Clone Wars (2008)/Star wars 10.mp4'),\n",
       "       WindowsPath('data/TV Shows/Adventure Time (2010) Season 1-10 S01-S10 + Extras/Season 1/Adventure Time Episode 1.mp4'),\n",
       "       WindowsPath('data/TV Shows/4543/file_example_MP4_480_1_5MG.mp4'),\n",
       "       WindowsPath('data/TV Shows/Star Wards - The Clone Wars (2008)/Star wars 2.mp4'),\n",
       "       WindowsPath('data/TV Shows/Star Wards - The Clone Wars (2008)/Star wars 1.mp4'),\n",
       "       WindowsPath('data/TV Shows/Star Wards - The Clone Wars (2008)/Star wars 10.mp4'),\n",
       "       WindowsPath('data/TV Shows/Star Wards - The Clone Wars (2008)/Star wars 2.mp4')])"
      ]
     },
     "execution_count": 744,
     "metadata": {},
     "output_type": "execute_result"
    }
   ],
   "source": [
    "generate_playlist(MAX_LENGTH_MINS)"
   ]
  }
 ],
 "metadata": {
  "kernelspec": {
   "display_name": "Python 3.7.0 ('venv': venv)",
   "language": "python",
   "name": "python3"
  },
  "language_info": {
   "codemirror_mode": {
    "name": "ipython",
    "version": 3
   },
   "file_extension": ".py",
   "mimetype": "text/x-python",
   "name": "python",
   "nbconvert_exporter": "python",
   "pygments_lexer": "ipython3",
   "version": "3.7.0"
  },
  "vscode": {
   "interpreter": {
    "hash": "c54560fae665db78ea27c062c651ad58b0b09e12b426692f2e38e1eac4d1ee5d"
   }
  }
 },
 "nbformat": 4,
 "nbformat_minor": 2
}
