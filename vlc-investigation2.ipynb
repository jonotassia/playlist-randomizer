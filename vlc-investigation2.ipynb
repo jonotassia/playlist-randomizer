{
    "cells": [
        {
            "cell_type": "code",
            "execution_count": 60,
            "metadata": {},
            "outputs": [],
            "source": [
                "# Import relevant libraries\n",
                "import vlc\n",
                "from pathlib import Path, WindowsPath\n",
                "import pandas as pd"
            ]
        },
        {
            "attachments": {},
            "cell_type": "markdown",
            "metadata": {},
            "source": [
                "### Test playing a video"
            ]
        },
        {
            "cell_type": "code",
            "execution_count": 6,
            "metadata": {},
            "outputs": [],
            "source": [
                "# Define parent directory for shows\n",
                "TV_PATH = Path(\"./data/TV Shows/\")"
            ]
        },
        {
            "cell_type": "code",
            "execution_count": 17,
            "metadata": {},
            "outputs": [],
            "source": [
                "# Get episode 1 of show\n",
                "test_vid = next(next(TV_PATH.glob(\"*\")).glob(\"*\"))\n"
            ]
        },
        {
            "cell_type": "code",
            "execution_count": 18,
            "metadata": {},
            "outputs": [
                {
                    "data": {
                        "text/plain": [
                            "0"
                        ]
                    },
                    "execution_count": 18,
                    "metadata": {},
                    "output_type": "execute_result"
                }
            ],
            "source": [
                "# Test playing program with VLC\n",
                "media = vlc.MediaPlayer(test_vid)\n",
                "media.play()"
            ]
        },
        {
            "cell_type": "code",
            "execution_count": 19,
            "metadata": {},
            "outputs": [],
            "source": [
                "# Stop when cell is run\n",
                "media.stop()"
            ]
        },
        {
            "attachments": {},
            "cell_type": "markdown",
            "metadata": {},
            "source": [
                "### Generate Playlist File"
            ]
        },
        {
            "cell_type": "code",
            "execution_count": 93,
            "metadata": {},
            "outputs": [],
            "source": [
                "def generate_playlist_scheme(file_name : str):\n",
                "    # Grab folder name for each video\n",
                "    show_folders = [folder for folder in TV_PATH.glob(\"*\")]\n",
                "\n",
                "    # Create and populate dataframe\n",
                "    show_folder_df = pd.DataFrame(columns=[\"show_path\", \"frequency\"])\n",
                "    show_folder_df[\"show_path\"] = show_folders\n",
                "\n",
                "    # Make relative to TV_PATH and remove playlist row\n",
                "    show_folder_df[\"show_path\"] = show_folder_df[\"show_path\"].apply(lambda x: x.relative_to(TV_PATH))\n",
                "    show_folder_df = show_folder_df[show_folder_df[\"show_path\"] != WindowsPath('.playlists')]\n",
                "\n",
                "    # Create playlist file\n",
                "    show_folder_df.to_csv(TV_PATH.as_posix() + \"/.playlists/\" + file_name + \".csv\")"
            ]
        },
        {
            "cell_type": "code",
            "execution_count": 94,
            "metadata": {},
            "outputs": [],
            "source": [
                "generate_playlist_scheme(\"playlist\")"
            ]
        },
        {
            "attachments": {},
            "cell_type": "markdown",
            "metadata": {},
            "source": [
                "### Test Reading Playlist File and Creating Random Subset"
            ]
        },
        {
            "cell_type": "code",
            "execution_count": 107,
            "metadata": {},
            "outputs": [],
            "source": [
                "def load_playlist_scheme(file_name : str) -> pd.DataFrame:\n",
                "    # Grab playlist scheme from file\n",
                "    playlist = pd.read_csv(TV_PATH.as_posix() + \"/.playlists/\" + file_name + \".csv\", index_col=0)\n",
                "    return playlist"
            ]
        },
        {
            "cell_type": "code",
            "execution_count": 108,
            "metadata": {},
            "outputs": [
                {
                    "data": {
                        "text/html": [
                            "<div>\n",
                            "<style scoped>\n",
                            "    .dataframe tbody tr th:only-of-type {\n",
                            "        vertical-align: middle;\n",
                            "    }\n",
                            "\n",
                            "    .dataframe tbody tr th {\n",
                            "        vertical-align: top;\n",
                            "    }\n",
                            "\n",
                            "    .dataframe thead th {\n",
                            "        text-align: right;\n",
                            "    }\n",
                            "</style>\n",
                            "<table border=\"1\" class=\"dataframe\">\n",
                            "  <thead>\n",
                            "    <tr style=\"text-align: right;\">\n",
                            "      <th></th>\n",
                            "      <th>show_path</th>\n",
                            "      <th>frequency</th>\n",
                            "    </tr>\n",
                            "  </thead>\n",
                            "  <tbody>\n",
                            "    <tr>\n",
                            "      <th>1</th>\n",
                            "      <td>4543</td>\n",
                            "      <td>NaN</td>\n",
                            "    </tr>\n",
                            "    <tr>\n",
                            "      <th>2</th>\n",
                            "      <td>Adventure Time (2010) Season 1-10 S01-S10 + Ex...</td>\n",
                            "      <td>NaN</td>\n",
                            "    </tr>\n",
                            "    <tr>\n",
                            "      <th>3</th>\n",
                            "      <td>Hercules - The Legendary Journeys (1994)(tvdb-72)</td>\n",
                            "      <td>NaN</td>\n",
                            "    </tr>\n",
                            "    <tr>\n",
                            "      <th>4</th>\n",
                            "      <td>Star Wards - The Clone Wars (2008)</td>\n",
                            "      <td>NaN</td>\n",
                            "    </tr>\n",
                            "  </tbody>\n",
                            "</table>\n",
                            "</div>"
                        ],
                        "text/plain": [
                            "                                           show_path  frequency\n",
                            "1                                               4543        NaN\n",
                            "2  Adventure Time (2010) Season 1-10 S01-S10 + Ex...        NaN\n",
                            "3  Hercules - The Legendary Journeys (1994)(tvdb-72)        NaN\n",
                            "4                 Star Wards - The Clone Wars (2008)        NaN"
                        ]
                    },
                    "execution_count": 108,
                    "metadata": {},
                    "output_type": "execute_result"
                }
            ],
            "source": [
                "load_playlist_scheme(\"playlist\")"
            ]
        },
        {
            "cell_type": "code",
            "execution_count": null,
            "metadata": {},
            "outputs": [],
            "source": [
                "# Set constraints\n",
                "MAX_LENGTH_MINS = 120\n"
            ]
        }
    ],
    "metadata": {
        "kernelspec": {
            "display_name": "venv",
            "language": "python",
            "name": "python3"
        },
        "language_info": {
            "codemirror_mode": {
                "name": "ipython",
                "version": 3
            },
            "file_extension": ".py",
            "mimetype": "text/x-python",
            "name": "python",
            "nbconvert_exporter": "python",
            "pygments_lexer": "ipython3",
            "version": "3.7.0"
        },
        "orig_nbformat": 4
    },
    "nbformat": 4,
    "nbformat_minor": 2
}
